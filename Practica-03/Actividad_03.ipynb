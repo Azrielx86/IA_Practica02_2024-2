{
 "cells": [
  {
   "metadata": {},
   "cell_type": "markdown",
   "source": [
    "# Práctica 3\n",
    "## Actividad 3\n",
    "```\n",
    "Facultad de Ingeniería - UNAM\n",
    "Inteligencia Artificial\n",
    "Semestre 2024-2\n",
    "```\n",
    "## Integrantes del equipo\n",
    "- González Nava Alicia Aislinn\n",
    "- Moreno Chalico Edgar Ulises\n",
    "- Osorio Ángeles Rodrigo Jafet\n",
    "- Robles Reyes Alan"
   ],
   "id": "b5ff765f3fd35494"
  },
  {
   "metadata": {
    "ExecuteTime": {
     "end_time": "2024-04-10T05:07:13.587073Z",
     "start_time": "2024-04-10T05:07:13.583301Z"
    }
   },
   "cell_type": "code",
   "source": [
    "import random\n",
    "\n",
    "atributos = [\"Inteligencia\", \"Fuerza\", \"Mutación\", \"Velocidad\", \"Vuelo\",\n",
    "             \"Inmunidad\", \"Magia\", \"Locura\", \"Dinero\", \"Minions\", \"Semidios\"]\n",
    "modelo = [8, 7, 4, 5, 2, 7, 3, 10, 5, 10, 8]\n",
    "largo = len(modelo)\n",
    "num = 15\n",
    "pressure = 4\n",
    "mutation_chance = 0.35\n",
    "\n",
    "print(f\"Modelo: {modelo}\")\n",
    "\n",
    "for atributo, valor in zip(atributos, modelo):\n",
    "    print(f\"{atributo} = {valor}\")"
   ],
   "id": "f181ec99855791b3",
   "outputs": [
    {
     "name": "stdout",
     "output_type": "stream",
     "text": [
      "Modelo: [8, 7, 4, 5, 2, 7, 3, 10, 5, 10, 8]\n",
      "Inteligencia = 8\n",
      "Fuerza = 7\n",
      "Mutación = 4\n",
      "Velocidad = 5\n",
      "Vuelo = 2\n",
      "Inmunidad = 7\n",
      "Magia = 3\n",
      "Locura = 10\n",
      "Dinero = 5\n",
      "Minions = 10\n",
      "Semidios = 8\n"
     ]
    }
   ],
   "execution_count": 13
  },
  {
   "cell_type": "code",
   "id": "initial_id",
   "metadata": {
    "collapsed": true,
    "ExecuteTime": {
     "end_time": "2024-04-10T05:07:13.607932Z",
     "start_time": "2024-04-10T05:07:13.601437Z"
    }
   },
   "source": [
    "def individual(min_val: int, max_val: int) -> list[int]:\n",
    "    \"\"\"\n",
    "        Crea un individuo\n",
    "    \"\"\"\n",
    "    return [random.randint(min_val, max_val) for _ in range(largo)]\n",
    "\n",
    "\n",
    "def crearPoblacion() -> list[list[int]]:\n",
    "    \"\"\"\n",
    "        Crea una poblacion nueva de individuos\n",
    "    \"\"\"\n",
    "    return [individual(0, 101) for _ in range(num)]\n",
    "\n",
    "\n",
    "def calcularFitness(individual):\n",
    "    \"\"\"\n",
    "        Calcula el fitness de un individuo concreto.\n",
    "    \"\"\"\n",
    "    fitness = 0\n",
    "    for i in range(len(individual)):\n",
    "        if individual[i] == modelo[i]:\n",
    "            fitness += 1\n",
    "\n",
    "    return fitness\n",
    "\n",
    "\n",
    "def selection_and_reproduction(population):\n",
    "    \"\"\"\n",
    "        Puntua todos los elementos de la poblacion (population) y se queda con los mejores\n",
    "        guardandolos dentro de 'selected'.\n",
    "        Despues mezcla el material genetico de los elegidos para crear nuevos individuos y\n",
    "        llenar la poblacion (guardando tambien una copia de los individuos seleccionados sin\n",
    "        modificar).\n",
    "\n",
    "        Por ultimo muta a los individuos.\n",
    "\n",
    "    \"\"\"\n",
    "    puntuados = [(calcularFitness(i), i) for i in population]\n",
    "    puntuados = [i[1] for i in sorted(puntuados)]\n",
    "    population = puntuados\n",
    "\n",
    "    selected = puntuados[(\n",
    "                                 len(puntuados) - pressure):]\n",
    "\n",
    "    for i in range(len(population) - pressure):\n",
    "        punto = random.randint(1, largo - 1)\n",
    "        padre = random.sample(selected, 2)\n",
    "\n",
    "        population[i][:punto] = padre[0][:punto]\n",
    "        population[i][punto:] = padre[1][punto:]\n",
    "\n",
    "    return population\n",
    "\n",
    "\n",
    "def mutation(population):\n",
    "    \"\"\"\n",
    "        Se mutan los individuos al azar. Sin la mutacion de nuevos genes nunca podria\n",
    "        alcanzarse la solucion.\n",
    "    \"\"\"\n",
    "    for i in range(len(population) - pressure):\n",
    "        if random.random() <= mutation_chance:\n",
    "            punto = random.randint(0, largo - 1)\n",
    "            nuevo_valor = random.randint(1, 20)\n",
    "\n",
    "            while nuevo_valor == population[i][punto]:\n",
    "                nuevo_valor = random.randint(1, 20)\n",
    "\n",
    "            population[i][punto] = nuevo_valor\n",
    "\n",
    "    return population\n"
   ],
   "outputs": [],
   "execution_count": 14
  },
  {
   "metadata": {
    "ExecuteTime": {
     "end_time": "2024-04-10T05:07:13.635131Z",
     "start_time": "2024-04-10T05:07:13.624021Z"
    }
   },
   "cell_type": "code",
   "source": [
    "population = crearPoblacion()\n",
    "print(f\"Poblacion Inicial:\")\n",
    "print(population)\n",
    "target = 200\n",
    "for i in range(target):\n",
    "    population = selection_and_reproduction(population)\n",
    "    population = mutation(population)\n",
    "#     print(f\"Progreso: {i}/{target}\", end=\"\\r\")\n",
    "# print(\"\\33[2K\", end=\"\")\n",
    "print(f\"Poblacion Final:\")\n",
    "print(population)"
   ],
   "id": "d9c024eba9334e39",
   "outputs": [
    {
     "name": "stdout",
     "output_type": "stream",
     "text": [
      "Poblacion Inicial:\n",
      "[[43, 20, 5, 98, 91, 12, 33, 13, 77, 96, 34], [83, 4, 3, 28, 23, 41, 12, 35, 3, 55, 21], [63, 83, 70, 25, 36, 90, 22, 63, 22, 27, 10], [75, 21, 87, 22, 63, 23, 31, 17, 40, 2, 89], [84, 6, 44, 48, 66, 48, 26, 26, 52, 32, 94], [98, 71, 26, 19, 30, 25, 50, 19, 0, 45, 44], [85, 30, 1, 18, 83, 38, 22, 52, 74, 73, 54], [35, 34, 85, 88, 29, 86, 15, 30, 40, 64, 65], [19, 58, 27, 34, 59, 34, 34, 73, 39, 62, 0], [41, 81, 15, 83, 66, 22, 101, 52, 24, 88, 17], [91, 26, 84, 93, 70, 41, 10, 42, 63, 25, 16], [43, 39, 43, 88, 17, 42, 29, 42, 40, 32, 91], [4, 54, 3, 31, 95, 15, 25, 14, 16, 51, 8], [22, 75, 52, 28, 65, 2, 53, 29, 76, 63, 44], [52, 5, 77, 36, 79, 47, 98, 56, 59, 69, 90]]\n",
      "Poblacion Final:\n",
      "[[8, 7, 4, 5, 2, 7, 3, 10, 5, 10, 8], [8, 7, 4, 5, 2, 7, 3, 10, 5, 10, 8], [8, 7, 4, 5, 2, 7, 5, 10, 5, 10, 8], [8, 7, 4, 5, 2, 7, 3, 10, 5, 10, 8], [8, 7, 15, 5, 2, 7, 3, 10, 5, 10, 8], [8, 7, 4, 5, 2, 7, 3, 10, 5, 10, 8], [8, 7, 4, 5, 2, 7, 3, 10, 5, 10, 8], [8, 7, 4, 5, 2, 7, 3, 2, 5, 10, 8], [8, 7, 4, 5, 2, 7, 3, 10, 5, 10, 8], [8, 7, 4, 5, 2, 7, 3, 10, 5, 10, 8], [8, 7, 4, 5, 2, 7, 3, 10, 5, 10, 8], [8, 7, 4, 5, 2, 7, 3, 10, 5, 10, 8], [8, 7, 4, 5, 2, 7, 3, 10, 5, 10, 8], [8, 7, 4, 5, 2, 7, 3, 10, 5, 10, 8], [8, 7, 4, 5, 2, 7, 3, 10, 5, 10, 8]]\n"
     ]
    }
   ],
   "execution_count": 15
  }
 ],
 "metadata": {
  "kernelspec": {
   "display_name": "Python 3",
   "language": "python",
   "name": "python3"
  },
  "language_info": {
   "codemirror_mode": {
    "name": "ipython",
    "version": 2
   },
   "file_extension": ".py",
   "mimetype": "text/x-python",
   "name": "python",
   "nbconvert_exporter": "python",
   "pygments_lexer": "ipython2",
   "version": "2.7.6"
  }
 },
 "nbformat": 4,
 "nbformat_minor": 5
}
