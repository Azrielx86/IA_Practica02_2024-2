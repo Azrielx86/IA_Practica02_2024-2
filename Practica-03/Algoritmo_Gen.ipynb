{
 "cells": [
  {
   "cell_type": "markdown",
   "metadata": {
    "id": "8MxHsellPncU"
   },
   "source": [
    "# Algoritmos Genéticos\n",
    "\n",
    "Un algoritmo genético (AG) es una técnica de resolución de problemas que imita a la evolución biológica como estrategia para resolver problemas (técnicas basadas en poblaciones).\n",
    "\n",
    "La entrada del AG es un conjunto de soluciones potenciales a ese problema, y una métrica llamada función de aptitud, o fitness, que permite evaluar cuantitativamente a cada solución candidata.\n",
    "\n",
    "Estas candidatas pueden ser soluciones que ya se sabe que funcionan, con el objetivo de que el AG las mejore, pero se suelen generar aleatoriamente.\n",
    "\n",
    "Se evalúa cada candidata de acuerdo con la función de aptitud.\n",
    "\n",
    "    Tendrán una eficiencia mínima con respecto a la resolución del problema, y la mayoría no funcionarán en absoluto.\n",
    "    Unas pocas pueden ser prometedoras, pudiendo mostrar algunas características que muestren, aunque sólo sea de una forma débil e imperfecta, cierta capacidad de  solución del problema.\n",
    "\n",
    "Estas candidatas prometedoras se conservan y se les permite reproducirse.\n",
    "\n",
    "Se realizan múltiples copias de ellas, se les introducen algunos cambios aleatorios durante el proceso de copia, a modo de las mutaciones que pueden sufrir los descendientes de una población.\n",
    "\n",
    "Esta descendencia digital prosigue con la siguiente generación, formando un nuevo conjunto de soluciones candidatas, y son de nuevo sometidas a una ronda de evaluación de aptitud.\n",
    "\n",
    "Las candidatas que han empeorado o no han mejorado con los cambios en su código son eliminadas de nuevo.\n",
    "\n",
    "Las variaciones aleatorias introducidas en la población pueden haber mejorado a algunos individuos, convirtiéndolos en mejores soluciones del problema, más completas o más eficientes.\n",
    "\n",
    "![imagen.png](attachment:imagen.png)"
   ]
  },
  {
   "cell_type": "markdown",
   "metadata": {
    "id": "BfqqPP5FPncY"
   },
   "source": [
    "## EJEMPLO\n",
    "\n",
    "Lo primero son las declaraciones."
   ]
  },
  {
   "cell_type": "code",
   "execution_count": 1,
   "metadata": {
    "colab": {
     "base_uri": "https://localhost:8080/"
    },
    "id": "BYKHkNolPncZ",
    "outputId": "e94be5f9-7ce5-4174-f2d3-9116d4d913b2",
    "ExecuteTime": {
     "end_time": "2024-04-01T06:04:01.728080Z",
     "start_time": "2024-04-01T06:04:01.722782Z"
    }
   },
   "outputs": [
    {
     "name": "stdout",
     "output_type": "stream",
     "text": [
      "\n",
      "\n",
      "Modelo: ['H', 'o', 'l', 'a', ' ', 'p', 'r', 'o', 'f', 'e']\n"
     ]
    }
   ],
   "source": [
    "import random\n",
    "\n",
    "modelo = ['H','o','l','a',' ','p','r','o','f','e'] #Objetivo a alcanzar\n",
    "largo = 10 #La longitud del material genetico de cada individuo\n",
    "num = 10 #La cantidad de individuos que habra en la poblacion\n",
    "pressure = 2 #Cuantos individuos se seleccionan para reproduccion. Necesariamente mayor que 2\n",
    "mutation_chance = 0.5 #La probabilidad de que un individuo mute\n",
    "\n",
    "print(\"\\n\\nModelo: %s\\n\"%(modelo)) #Mostrar el modelo, con un poco de espaciado"
   ]
  },
  {
   "cell_type": "markdown",
   "metadata": {
    "id": "7sO--_11Pncc"
   },
   "source": [
    "La primera línea llama la librería random, que va a ser necesaria para generar una población inicial, cruzar los individuos...\n",
    "\n",
    "El arreglo **modelo** es, como su nombre indica, el modelo a imitar. Aunque es probable que la población no llegue nunca a ser idéntica al modelo. Esto se debe a que la evolución es un proceso semialeatorio.\n",
    "\n",
    "La variable **largo** es la longitud de cada individuo, y **num** define la dimensión de la población.\n",
    "\n",
    "**pressure** dice la cantidad de individuos que se seleccionan para la reproducción (mayor de 2). En este programa seleccionará tres individuos.\n",
    "\n",
    "La variable **mutation_chance** establece la probabilidad de que un individuo sufra una mutación durante la fase de reproducción. Es necesario que haya mutaciones para poder explorar nuevas soluciones que no pueden obtenerse combinando el material genético de los padres.\n",
    "\n",
    "Creamos un individuo que después será guardado dentro de una matriz llamada **población**, junto al resto de individuos:"
   ]
  },
  {
   "cell_type": "code",
   "execution_count": 2,
   "metadata": {
    "id": "ZMooNNbbPncc",
    "ExecuteTime": {
     "end_time": "2024-04-01T06:04:01.739141Z",
     "start_time": "2024-04-01T06:04:01.730418Z"
    }
   },
   "outputs": [],
   "source": [
    "def individual(min, max):\n",
    "    \"\"\"\n",
    "        Crea un individuo\n",
    "    \"\"\"\n",
    "    return[random.randint(min, max) for i in range(largo)]"
   ]
  },
  {
   "cell_type": "markdown",
   "metadata": {
    "id": "8G1cP8dZPncc"
   },
   "source": [
    "Recibe como parámetros **dos números** enteros (un **mínimo** y un **máximo**) y se llena una lista de longitud dada por la variable **largo** con **números aleatorios** entre el mínimo y el máximo. Esta lista creada será el nuevo individuo."
   ]
  },
  {
   "cell_type": "code",
   "execution_count": 3,
   "metadata": {
    "id": "qA2GinPwPncd",
    "ExecuteTime": {
     "end_time": "2024-04-01T06:04:01.750706Z",
     "start_time": "2024-04-01T06:04:01.743855Z"
    }
   },
   "outputs": [],
   "source": [
    "def crearPoblacion():\n",
    "    \"\"\"\n",
    "        Crea una poblacion nueva de individuos\n",
    "    \"\"\"\n",
    "    return [individual(1,20) for i in range(num)]"
   ]
  },
  {
   "cell_type": "markdown",
   "metadata": {
    "id": "C8fALxV_Pncd"
   },
   "source": [
    "Llama la función para crear **individuos** un número de veces igual a **num**, que definía el tamaño de la **población**. Todos estos nuevos individuos los guarda dentro de una lista, que devuelve fuera de la función.\n",
    "\n",
    "La tercera es la **función de fitness**. Dado un individuo, la función comprueba cuántos números tiene en común con el modelo y le asigna el fitness correspondiente. Después devuelve este número fuera de la función."
   ]
  },
  {
   "cell_type": "code",
   "execution_count": 4,
   "metadata": {
    "id": "cNd_zKxwPncd",
    "ExecuteTime": {
     "end_time": "2024-04-01T06:04:01.762139Z",
     "start_time": "2024-04-01T06:04:01.751634Z"
    }
   },
   "outputs": [],
   "source": [
    "def calcularFitness(individual):\n",
    "    \"\"\"\n",
    "        Calcula el fitness de un individuo concreto.\n",
    "    \"\"\"\n",
    "    fitness = 0\n",
    "    for i in range(len(individual)):\n",
    "        if individual[i] == modelo[i]:\n",
    "            fitness += 1\n",
    "\n",
    "    return fitness"
   ]
  },
  {
   "cell_type": "markdown",
   "metadata": {
    "id": "gVevBmLKPncd"
   },
   "source": [
    "![imagen.png](attachment:imagen.png)"
   ]
  },
  {
   "cell_type": "markdown",
   "metadata": {
    "id": "hopDghkWPncd"
   },
   "source": [
    "La **inicialización** ya está hecha (es la función **crearPoblación**). Ahora se usará una función que llamaremos **selection_and_reproduction()** para evaluar cada uno de los individuos (**evaluación**), seleccionar los mejores (**selección**) y mezclar su material genético (**crossover**) a fin de crear una nueva población encima de la anterior."
   ]
  },
  {
   "cell_type": "code",
   "execution_count": 5,
   "metadata": {
    "id": "ZUG4YFTjPncd",
    "ExecuteTime": {
     "end_time": "2024-04-01T06:04:01.773916Z",
     "start_time": "2024-04-01T06:04:01.762807Z"
    }
   },
   "outputs": [],
   "source": [
    "def selection_and_reproduction(population):\n",
    "    \"\"\"\n",
    "        Puntua todos los elementos de la poblacion (population) y se queda con los mejores\n",
    "        guardandolos dentro de 'selected'.\n",
    "        Despues mezcla el material genetico de los elegidos para crear nuevos individuos y\n",
    "        llenar la poblacion (guardando tambien una copia de los individuos seleccionados sin\n",
    "        modificar).\n",
    "\n",
    "        Por ultimo muta a los individuos.\n",
    "\n",
    "    \"\"\"\n",
    "    puntuados = [ (calcularFitness(i), i) for i in population] #Calcula el fitness de cada individuo, y lo guarda en pares ordenados de la forma (5 , [1,2,1,1,4,1,8,9,4,1])\n",
    "    puntuados = [i[1] for i in sorted(puntuados)] #Ordena los pares ordenados y se queda solo con el array de valores\n",
    "    population = puntuados\n",
    "\n",
    "\n",
    "\n",
    "    selected =  puntuados[(len(puntuados)-pressure):] #Esta linea selecciona los 'n' individuos del final, donde n viene dado por 'pressure'\n",
    "\n",
    "\n",
    "\n",
    "    #Se mezcla el material genetico para crear nuevos individuos\n",
    "    for i in range(len(population)-pressure):\n",
    "        punto = random.randint(1,largo-1) #Se elige un punto para hacer el intercambio\n",
    "        padre = random.sample(selected, 2) #Se eligen dos padres\n",
    "\n",
    "        population[i][:punto] = padre[0][:punto] #Se mezcla el material genetico de los padres en cada nuevo individuo\n",
    "        population[i][punto:] = padre[1][punto:]\n",
    "\n",
    "    return population #El array 'population' tiene ahora una nueva poblacion de individuos, que se devuelven"
   ]
  },
  {
   "cell_type": "markdown",
   "metadata": {
    "id": "LZPe3gVaPncd"
   },
   "source": [
    "La primera parte **ordena los individuos** de la población de menor a mayor fitness. Después selecciona los mejores, que serán los últimos del array ordenado. Por último, **mezcla el material** genético de los padres para crear los nuevos individuos: se elige un punto al azar y se intercambia el material genético de los padres a partir de esta posición.\n",
    "\n",
    "![imagen.png](attachment:imagen.png)\n",
    "\n",
    "También es necesaria una **función de mutación**, que añada pequeñas variaciones al azar en el array de los individuos de la nueva generación."
   ]
  },
  {
   "cell_type": "code",
   "execution_count": 6,
   "metadata": {
    "id": "KwE1GoiGPnce",
    "ExecuteTime": {
     "end_time": "2024-04-01T06:04:01.785677Z",
     "start_time": "2024-04-01T06:04:01.774881Z"
    }
   },
   "outputs": [],
   "source": [
    "def mutation(population):\n",
    "    \"\"\"\n",
    "        Se mutan los individuos al azar. Sin la mutacion de nuevos genes nunca podria\n",
    "        alcanzarse la solucion.\n",
    "    \"\"\"\n",
    "    for i in range(len(population)-pressure):\n",
    "        if random.random() <= mutation_chance: #Cada individuo de la poblacion (menos los padres) tienen una probabilidad de mutar\n",
    "            punto = random.randint(0,largo-1) #Se elgie un punto al azar\n",
    "            nuevo_valor = random.randint(1,20) #y un nuevo valor para este punto\n",
    "\n",
    "            #Es importante mirar que el nuevo valor no sea igual al viejo\n",
    "            while nuevo_valor == population[i][punto]:\n",
    "                nuevo_valor = random.randint(1,20)\n",
    "\n",
    "            #Se aplica la mutacion\n",
    "            population[i][punto] = nuevo_valor\n",
    "\n",
    "    return population"
   ]
  },
  {
   "cell_type": "markdown",
   "metadata": {
    "id": "KuqNaX1LPnce"
   },
   "source": [
    "Para acabar, se crea una población inicial y el bucle del programa. El algoritmo hará evolucionar a la población durante cien generaciones, llamando las funciones que se han definido arriba:"
   ]
  },
  {
   "cell_type": "code",
   "execution_count": 7,
   "metadata": {
    "colab": {
     "base_uri": "https://localhost:8080/"
    },
    "id": "MScSgI_uPnce",
    "outputId": "8e61559c-cd89-46b9-94d7-2b264f8b1de1",
    "ExecuteTime": {
     "end_time": "2024-04-01T06:04:01.815055Z",
     "start_time": "2024-04-01T06:04:01.786267Z"
    }
   },
   "outputs": [
    {
     "name": "stdout",
     "output_type": "stream",
     "text": [
      "Poblacion Inicial:\n",
      "[[4, 18, 10, 18, 13, 18, 9, 20, 10, 15], [1, 1, 9, 20, 19, 2, 15, 11, 8, 9], [15, 3, 3, 12, 14, 18, 8, 4, 19, 3], [2, 3, 11, 13, 3, 19, 4, 4, 11, 8], [8, 6, 19, 19, 19, 13, 11, 19, 16, 18], [16, 14, 2, 15, 18, 15, 6, 19, 11, 8], [1, 7, 4, 19, 10, 14, 9, 17, 16, 19], [14, 4, 10, 15, 9, 15, 11, 17, 10, 7], [13, 10, 19, 20, 11, 11, 20, 19, 10, 8], [14, 11, 1, 12, 20, 20, 2, 15, 2, 1]]\n",
      "\n",
      "Poblacion Final:\n",
      "[[20, 20, 20, 20, 20, 20, 20, 20, 20, 20], [3, 20, 20, 20, 20, 20, 20, 20, 20, 20], [20, 20, 20, 20, 20, 20, 20, 20, 20, 20], [20, 20, 20, 17, 20, 20, 20, 20, 20, 20], [20, 20, 20, 20, 20, 20, 20, 20, 20, 20], [20, 20, 20, 20, 20, 20, 20, 20, 20, 20], [20, 20, 20, 20, 20, 20, 20, 20, 20, 20], [20, 20, 20, 20, 20, 20, 20, 20, 20, 20], [20, 20, 20, 20, 20, 20, 20, 20, 20, 20], [20, 20, 20, 20, 20, 20, 20, 20, 20, 20]]\n",
      "\n"
     ]
    }
   ],
   "source": [
    "population = crearPoblacion()#Inicializar una poblacion\n",
    "print(\"Poblacion Inicial:\\n%s\"%(population)) #Se muestra la poblacion inicial\n",
    "\n",
    "\n",
    "#Se evoluciona la poblacion\n",
    "for i in range(500):\n",
    "    population = selection_and_reproduction(population)\n",
    "    population = mutation(population)\n",
    "\n",
    "\n",
    "print(\"\\nPoblacion Final:\\n%s\"%(population)) #Se muestra la poblacion evolucionada\n",
    "print(\"\\n\\n\")"
   ]
  }
 ],
 "metadata": {
  "kernelspec": {
   "display_name": "Python 3",
   "language": "python",
   "name": "python3"
  },
  "language_info": {
   "codemirror_mode": {
    "name": "ipython",
    "version": 3
   },
   "file_extension": ".py",
   "mimetype": "text/x-python",
   "name": "python",
   "nbconvert_exporter": "python",
   "pygments_lexer": "ipython3",
   "version": "3.7.6"
  },
  "colab": {
   "provenance": []
  }
 },
 "nbformat": 4,
 "nbformat_minor": 0
}
